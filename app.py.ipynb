{
 "cells": [
  {
   "cell_type": "markdown",
   "id": "567b0341",
   "metadata": {},
   "source": [
    "## Heart Disease prediction App "
   ]
  },
  {
   "cell_type": "code",
   "execution_count": null,
   "id": "a992ad1f",
   "metadata": {},
   "outputs": [
    {
     "name": "stdout",
     "output_type": "stream",
     "text": [
      " * Serving Flask app \"__main__\" (lazy loading)\n",
      " * Environment: production\n",
      "\u001b[31m   WARNING: This is a development server. Do not use it in a production deployment.\u001b[0m\n",
      "\u001b[2m   Use a production WSGI server instead.\u001b[0m\n",
      " * Debug mode: off\n"
     ]
    },
    {
     "name": "stderr",
     "output_type": "stream",
     "text": [
      " * Running on http://127.0.0.1:5000/ (Press CTRL+C to quit)\n",
      "127.0.0.1 - - [20/May/2023 13:45:11] \"GET / HTTP/1.1\" 200 -\n",
      "127.0.0.1 - - [20/May/2023 13:47:30] \"POST /predict HTTP/1.1\" 200 -\n"
     ]
    }
   ],
   "source": [
    "from flask import Flask, render_template, request, jsonify\n",
    "import pickle\n",
    "import numpy as np\n",
    "\n",
    "app = Flask(__name__)\n",
    "\n",
    "model = pickle.load(open('heart_disease_prediction_model.pkl', 'rb'))\n",
    "\n",
    "@app.route('/')\n",
    "def home():\n",
    "    return render_template('index.html')\n",
    "\n",
    "@app.route('/predict', methods=['POST'])\n",
    "def predict():\n",
    "    # Get form data\n",
    "    age = int(request.form['age'])\n",
    "    sex = int(request.form['sex'])\n",
    "    cp = int(request.form['cp'])\n",
    "    trestbps = int(request.form['trestbps'])\n",
    "    chol = int(request.form['chol'])\n",
    "    fbs = int(request.form['fbs'])\n",
    "    restecg = int(request.form['restecg'])\n",
    "    thalach = int(request.form['thalach'])\n",
    "    exang = int(request.form['exang'])\n",
    "    oldpeak = float(request.form['oldpeak'])\n",
    "    slope = int(request.form['slope'])\n",
    "    ca = int(request.form['ca'])\n",
    "    thal = int(request.form['thal'])\n",
    "\n",
    "    \n",
    "    input_data = np.array([[age, sex, cp, trestbps, chol, fbs, restecg, thalach, exang, oldpeak, slope, ca, thal]])\n",
    "\n",
    "    \n",
    "    prediction = model.predict(input_data)[0]\n",
    "\n",
    "    if prediction == 0:\n",
    "        result = 'No Heart Disease'\n",
    "    else:\n",
    "        result = 'Heart Disease'\n",
    "\n",
    "    return render_template('result.html', prediction_text='Prediction: {}'.format(result))\n",
    "\n",
    "if __name__ == '__main__':\n",
    "    app.run()\n"
   ]
  },
  {
   "cell_type": "code",
   "execution_count": null,
   "id": "2daaf366",
   "metadata": {},
   "outputs": [],
   "source": []
  }
 ],
 "metadata": {
  "kernelspec": {
   "display_name": "Python 3 (ipykernel)",
   "language": "python",
   "name": "python3"
  },
  "language_info": {
   "codemirror_mode": {
    "name": "ipython",
    "version": 3
   },
   "file_extension": ".py",
   "mimetype": "text/x-python",
   "name": "python",
   "nbconvert_exporter": "python",
   "pygments_lexer": "ipython3",
   "version": "3.9.12"
  }
 },
 "nbformat": 4,
 "nbformat_minor": 5
}
